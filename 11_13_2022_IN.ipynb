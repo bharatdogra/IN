{
 "cells": [
  {
   "cell_type": "code",
   "execution_count": 24,
   "id": "a26ad8f9-80f7-40af-8a8b-487659125625",
   "metadata": {},
   "outputs": [],
   "source": [
    "def test1(func):\n",
    "    def test2():\n",
    "        print('I am in side test 2')\n",
    "        func()\n",
    "        print(func())\n",
    "        print (\"function executed\")\n",
    "        return func()\n",
    "    return test2\n",
    "            "
   ]
  },
  {
   "cell_type": "code",
   "execution_count": 30,
   "id": "fd445b96-b9f4-427a-916a-750030e41211",
   "metadata": {},
   "outputs": [],
   "source": [
    "@test1\n",
    "def test3():\n",
    "    print(\"this is my test 3\")"
   ]
  },
  {
   "cell_type": "code",
   "execution_count": 31,
   "id": "fddfc514-ddb5-45f2-a360-4fd6b9227102",
   "metadata": {},
   "outputs": [
    {
     "name": "stdout",
     "output_type": "stream",
     "text": [
      "I am in side test 2\n",
      "this is my test 3\n",
      "this is my test 3\n",
      "None\n",
      "function executed\n",
      "this is my test 3\n"
     ]
    }
   ],
   "source": [
    "test3()"
   ]
  },
  {
   "cell_type": "code",
   "execution_count": 29,
   "id": "db2e598a-4f4c-4af6-929b-46bbfb7a138e",
   "metadata": {},
   "outputs": [
    {
     "name": "stdout",
     "output_type": "stream",
     "text": [
      "I am in side test 2\n",
      "this is my test 3\n",
      "this is my test 3\n",
      "None\n",
      "function executed\n",
      "this is my test 3\n"
     ]
    },
    {
     "data": {
      "text/plain": [
       "<function __main__.test1.<locals>.test2()>"
      ]
     },
     "execution_count": 29,
     "metadata": {},
     "output_type": "execute_result"
    }
   ],
   "source": [
    "test1(test3())"
   ]
  },
  {
   "cell_type": "code",
   "execution_count": 27,
   "id": "5fe29502-7f0b-4719-a0a8-0398129fc86d",
   "metadata": {},
   "outputs": [],
   "source": [
    "@test1\n",
    "def test4():\n",
    "    return 5+6"
   ]
  },
  {
   "cell_type": "code",
   "execution_count": 28,
   "id": "dc965498-24db-4150-a77c-6b3590736ffd",
   "metadata": {},
   "outputs": [
    {
     "name": "stdout",
     "output_type": "stream",
     "text": [
      "I am in side test 2\n",
      "11\n",
      "function executed\n"
     ]
    },
    {
     "data": {
      "text/plain": [
       "23"
      ]
     },
     "execution_count": 28,
     "metadata": {},
     "output_type": "execute_result"
    }
   ],
   "source": [
    "test4() + 12"
   ]
  },
  {
   "cell_type": "code",
   "execution_count": 23,
   "id": "998e54c1-72dd-4228-9fb9-c243870a10c2",
   "metadata": {},
   "outputs": [
    {
     "name": "stdout",
     "output_type": "stream",
     "text": [
      "I am in side test 2\n",
      "11\n",
      "function executed\n"
     ]
    }
   ],
   "source": [
    "test4()"
   ]
  },
  {
   "cell_type": "code",
   "execution_count": 32,
   "id": "36e897bb-524f-4356-a742-5c0323d2f8e8",
   "metadata": {},
   "outputs": [],
   "source": [
    "def test8(a,b):\n",
    "    return a+b"
   ]
  },
  {
   "cell_type": "code",
   "execution_count": 35,
   "id": "ada35f65-0012-4ca1-9cf9-b7259fcb5399",
   "metadata": {},
   "outputs": [
    {
     "data": {
      "text/plain": [
       "'bmdogra'"
      ]
     },
     "execution_count": 35,
     "metadata": {},
     "output_type": "execute_result"
    }
   ],
   "source": [
    "test8('bm','dogra')"
   ]
  },
  {
   "cell_type": "code",
   "execution_count": 52,
   "id": "b1e006f1-5c46-47e3-85a2-091fef43e21d",
   "metadata": {},
   "outputs": [],
   "source": [
    "def test6(func):\n",
    "    def test7(*args,**kwargs):\n",
    "        func(*args,**kwargs)\n",
    "        print(func(*args,**kwargs))\n",
    "        print('This is a decortor function')\n",
    "        return func(*args,**kwargs)\n",
    "    return test7"
   ]
  },
  {
   "cell_type": "code",
   "execution_count": 53,
   "id": "895bd459-9460-4255-ad4c-c676d7faefa4",
   "metadata": {},
   "outputs": [],
   "source": [
    "@test6 \n",
    "def test8(a,b,c):\n",
    "    return a+b+c"
   ]
  },
  {
   "cell_type": "code",
   "execution_count": 54,
   "id": "df1a3f25-16f1-4a24-b747-0f85f1bfe045",
   "metadata": {},
   "outputs": [
    {
     "name": "stdout",
     "output_type": "stream",
     "text": [
      "bmdograbmd\n",
      "This is a decortor function\n"
     ]
    },
    {
     "data": {
      "text/plain": [
       "'bmdograbmd'"
      ]
     },
     "execution_count": 54,
     "metadata": {},
     "output_type": "execute_result"
    }
   ],
   "source": [
    "test8('bm','dogra','bmd')"
   ]
  },
  {
   "cell_type": "code",
   "execution_count": 55,
   "id": "fc7190f8-4c40-4b50-a3b7-20893fd419dc",
   "metadata": {},
   "outputs": [],
   "source": [
    "@test6\n",
    "def test9(**kwargs):\n",
    "    return kwargs"
   ]
  },
  {
   "cell_type": "code",
   "execution_count": 56,
   "id": "df6a520f-31b0-4246-9ca9-9b52176232d1",
   "metadata": {},
   "outputs": [
    {
     "name": "stdout",
     "output_type": "stream",
     "text": [
      "{'a': 89, 'b': 67}\n",
      "This is a decortor function\n"
     ]
    },
    {
     "data": {
      "text/plain": [
       "{'a': 89, 'b': 67}"
      ]
     },
     "execution_count": 56,
     "metadata": {},
     "output_type": "execute_result"
    }
   ],
   "source": [
    "test9(a=89, b=67)"
   ]
  },
  {
   "cell_type": "code",
   "execution_count": 58,
   "id": "7e65e508-dfbf-4ff3-a8cb-c09b27943524",
   "metadata": {},
   "outputs": [],
   "source": [
    "c = lambda a,b : a+b"
   ]
  },
  {
   "cell_type": "code",
   "execution_count": 59,
   "id": "d4647a1f-32db-4c29-84db-da9102098de6",
   "metadata": {},
   "outputs": [
    {
     "data": {
      "text/plain": [
       "'bmdogra'"
      ]
     },
     "execution_count": 59,
     "metadata": {},
     "output_type": "execute_result"
    }
   ],
   "source": [
    "c('bm','dogra')"
   ]
  },
  {
   "cell_type": "code",
   "execution_count": 60,
   "id": "9dacb979-15c9-416a-a66c-346602ffae07",
   "metadata": {},
   "outputs": [],
   "source": [
    "e = lambda *args:args"
   ]
  },
  {
   "cell_type": "code",
   "execution_count": 61,
   "id": "98d17449-1061-4010-b238-d9fd3d4a319c",
   "metadata": {},
   "outputs": [
    {
     "data": {
      "text/plain": [
       "()"
      ]
     },
     "execution_count": 61,
     "metadata": {},
     "output_type": "execute_result"
    }
   ],
   "source": [
    "e()"
   ]
  },
  {
   "cell_type": "code",
   "execution_count": 62,
   "id": "f259b7d2-f0bd-4956-af5f-5fe8510dfd88",
   "metadata": {},
   "outputs": [
    {
     "data": {
      "text/plain": [
       "(3, 4, 5, 6)"
      ]
     },
     "execution_count": 62,
     "metadata": {},
     "output_type": "execute_result"
    }
   ],
   "source": [
    "e(3,4,5,6)"
   ]
  },
  {
   "cell_type": "code",
   "execution_count": 63,
   "id": "f18b7ca2-60bb-4348-bd33-fbd21cfd5da8",
   "metadata": {},
   "outputs": [],
   "source": [
    "#map()"
   ]
  },
  {
   "cell_type": "code",
   "execution_count": 64,
   "id": "0fb78370-cf8d-48de-b05a-cf0c2ae15b49",
   "metadata": {},
   "outputs": [],
   "source": [
    "l = (1,2,3,4,5,6,7)"
   ]
  },
  {
   "cell_type": "code",
   "execution_count": 67,
   "id": "f71a5287-881b-486c-aea2-bbccfa82fb79",
   "metadata": {},
   "outputs": [],
   "source": [
    "l1=[]\n",
    "for i in l:\n",
    "    l1.append(i+10)"
   ]
  },
  {
   "cell_type": "code",
   "execution_count": 68,
   "id": "5d798195-7e21-4f15-9c00-60ac94530591",
   "metadata": {},
   "outputs": [
    {
     "data": {
      "text/plain": [
       "[11, 12, 13, 14, 15, 16, 17]"
      ]
     },
     "execution_count": 68,
     "metadata": {},
     "output_type": "execute_result"
    }
   ],
   "source": [
    "l1"
   ]
  },
  {
   "cell_type": "code",
   "execution_count": 69,
   "id": "ae7013f1-3443-4310-8293-cc8b7fd0a89f",
   "metadata": {},
   "outputs": [],
   "source": [
    "l = (1,2,3,4,5,6,7)\n",
    "l1=[]\n",
    "for i in l:\n",
    "    l1.append(i+10)"
   ]
  },
  {
   "cell_type": "code",
   "execution_count": 71,
   "id": "070d7ed0-4d87-4dae-b8ed-3bcce3040470",
   "metadata": {},
   "outputs": [
    {
     "data": {
      "text/plain": [
       "[11, 12, 13, 14, 15, 16, 17]"
      ]
     },
     "execution_count": 71,
     "metadata": {},
     "output_type": "execute_result"
    }
   ],
   "source": [
    "l1"
   ]
  },
  {
   "cell_type": "code",
   "execution_count": 72,
   "id": "c94d58e9-219c-4ed6-97ba-158cc5c8127b",
   "metadata": {},
   "outputs": [],
   "source": [
    "def test14(a):\n",
    "    return a+10"
   ]
  },
  {
   "cell_type": "code",
   "execution_count": 73,
   "id": "5665276d-8aa9-4d74-9f0c-e182b0576b0f",
   "metadata": {},
   "outputs": [
    {
     "data": {
      "text/plain": [
       "[11, 12, 13, 14, 15, 16, 17]"
      ]
     },
     "execution_count": 73,
     "metadata": {},
     "output_type": "execute_result"
    }
   ],
   "source": [
    "list(map(test14 , l))"
   ]
  },
  {
   "cell_type": "code",
   "execution_count": 74,
   "id": "ae36c29c-58fe-4fdb-98ef-37be3a62a794",
   "metadata": {},
   "outputs": [
    {
     "data": {
      "text/plain": [
       "[11, 12, 13, 14, 15, 16, 17]"
      ]
     },
     "execution_count": 74,
     "metadata": {},
     "output_type": "execute_result"
    }
   ],
   "source": [
    "list(map(lambda a: a+10, l))"
   ]
  },
  {
   "cell_type": "code",
   "execution_count": 75,
   "id": "1394de4b-841a-4914-ade2-1f36caeb7d5d",
   "metadata": {},
   "outputs": [],
   "source": [
    "n =lambda a: a+10"
   ]
  },
  {
   "cell_type": "code",
   "execution_count": 76,
   "id": "b69152f2-b016-44cf-9e79-6770c6317b28",
   "metadata": {},
   "outputs": [
    {
     "data": {
      "text/plain": [
       "[11, 12, 13, 14, 15, 16, 17]"
      ]
     },
     "execution_count": 76,
     "metadata": {},
     "output_type": "execute_result"
    }
   ],
   "source": [
    "list(map(n, l))"
   ]
  },
  {
   "cell_type": "code",
   "execution_count": 77,
   "id": "27feba07-c9be-4464-a90e-2e97342d09f0",
   "metadata": {},
   "outputs": [],
   "source": [
    "l = ['sudh', 'kumar', 'ineuron']"
   ]
  },
  {
   "cell_type": "code",
   "execution_count": 81,
   "id": "f61cf836-1b8a-4052-a89b-801191183e05",
   "metadata": {},
   "outputs": [
    {
     "data": {
      "text/plain": [
       "['SUDH', 'KUMAR', 'INEURON']"
      ]
     },
     "execution_count": 81,
     "metadata": {},
     "output_type": "execute_result"
    }
   ],
   "source": [
    "list(map(lambda a:a.upper(),l))"
   ]
  },
  {
   "cell_type": "code",
   "execution_count": 78,
   "id": "21a3ae4b-dd26-4fc6-86fc-ff84aef45629",
   "metadata": {},
   "outputs": [],
   "source": [
    "l1 =[]\n",
    "for i in l:\n",
    "    l1.append(i.upper())"
   ]
  },
  {
   "cell_type": "code",
   "execution_count": 79,
   "id": "26d6b93d-e598-4a64-b206-640107a37f13",
   "metadata": {},
   "outputs": [
    {
     "data": {
      "text/plain": [
       "['SUDH', 'KUMAR', 'INEURON']"
      ]
     },
     "execution_count": 79,
     "metadata": {},
     "output_type": "execute_result"
    }
   ],
   "source": [
    "l1"
   ]
  },
  {
   "cell_type": "code",
   "execution_count": 82,
   "id": "de54bdd9-fe1a-4c40-a4a3-67907397fa2c",
   "metadata": {},
   "outputs": [
    {
     "data": {
      "text/plain": [
       "['SUDH', 'KUMAR', 'INEURON']"
      ]
     },
     "execution_count": 82,
     "metadata": {},
     "output_type": "execute_result"
    }
   ],
   "source": [
    "list(map(str.upper, l))"
   ]
  },
  {
   "cell_type": "code",
   "execution_count": 83,
   "id": "7caeb57b-ca32-4edd-84a6-abf320d61427",
   "metadata": {},
   "outputs": [],
   "source": [
    "def upper_str(a):\n",
    "    return a.upper()"
   ]
  },
  {
   "cell_type": "code",
   "execution_count": 84,
   "id": "151ac28c-3b89-4523-ae17-2c3316087c62",
   "metadata": {},
   "outputs": [
    {
     "data": {
      "text/plain": [
       "['SUDH', 'KUMAR', 'INEURON']"
      ]
     },
     "execution_count": 84,
     "metadata": {},
     "output_type": "execute_result"
    }
   ],
   "source": [
    "list(map(upper_str,l))"
   ]
  },
  {
   "cell_type": "code",
   "execution_count": 85,
   "id": "76ea515c-9862-4601-8f03-8a45ededae64",
   "metadata": {},
   "outputs": [
    {
     "data": {
      "text/plain": [
       "['sudh', 'kumar', 'ineuron']"
      ]
     },
     "execution_count": 85,
     "metadata": {},
     "output_type": "execute_result"
    }
   ],
   "source": [
    "l"
   ]
  },
  {
   "cell_type": "code",
   "execution_count": 89,
   "id": "eaa2715d-f48c-4e3a-8a87-3e528cb7d6bd",
   "metadata": {},
   "outputs": [
    {
     "data": {
      "text/plain": [
       "[4, 5, 7]"
      ]
     },
     "execution_count": 89,
     "metadata": {},
     "output_type": "execute_result"
    }
   ],
   "source": [
    "l1=[]\n",
    "for i in l:\n",
    "    l1.append(len(i))\n",
    "l1"
   ]
  },
  {
   "cell_type": "code",
   "execution_count": 90,
   "id": "e47020ae-6281-4136-882e-2a8ae1373024",
   "metadata": {},
   "outputs": [
    {
     "data": {
      "text/plain": [
       "[4, 5, 7]"
      ]
     },
     "execution_count": 90,
     "metadata": {},
     "output_type": "execute_result"
    }
   ],
   "source": [
    "list(map(len,l))"
   ]
  },
  {
   "cell_type": "code",
   "execution_count": 93,
   "id": "eb493cb8-3ca9-43ab-b700-89f44bc08515",
   "metadata": {},
   "outputs": [],
   "source": [
    "def test23(a):\n",
    "    return len(a)"
   ]
  },
  {
   "cell_type": "code",
   "execution_count": 94,
   "id": "b0c97f4a-e0e1-4cea-9485-e40abcb5d534",
   "metadata": {},
   "outputs": [
    {
     "data": {
      "text/plain": [
       "[4, 5, 7]"
      ]
     },
     "execution_count": 94,
     "metadata": {},
     "output_type": "execute_result"
    }
   ],
   "source": [
    "list(map(test23,l))"
   ]
  },
  {
   "cell_type": "code",
   "execution_count": 95,
   "id": "c17294d0-c883-4140-a97e-7d8354f56ba5",
   "metadata": {},
   "outputs": [],
   "source": [
    "l = [1,2,3,4,5,6,7,8]"
   ]
  },
  {
   "cell_type": "code",
   "execution_count": 99,
   "id": "3e4f7f94-e7a5-4b39-b1c8-62eb71d8103d",
   "metadata": {},
   "outputs": [
    {
     "data": {
      "text/plain": [
       "[2, 4, 6, 8]"
      ]
     },
     "execution_count": 99,
     "metadata": {},
     "output_type": "execute_result"
    }
   ],
   "source": [
    "l1=[]\n",
    "for i in l:\n",
    "    if i%2==0:\n",
    "        l1.append(i)\n",
    "    \n",
    "l1"
   ]
  },
  {
   "cell_type": "code",
   "execution_count": 100,
   "id": "532d1458-c4a8-4364-8fa6-d0bf0d331cf7",
   "metadata": {},
   "outputs": [
    {
     "data": {
      "text/plain": [
       "[2, 4, 6, 8]"
      ]
     },
     "execution_count": 100,
     "metadata": {},
     "output_type": "execute_result"
    }
   ],
   "source": [
    "[i for i in l if i%2==0]"
   ]
  },
  {
   "cell_type": "code",
   "execution_count": 101,
   "id": "44b967f5-48c2-40d4-a599-aa1a2b73c10b",
   "metadata": {},
   "outputs": [],
   "source": [
    "def test24(a):\n",
    "    l1 = []\n",
    "    if type(a) == list:\n",
    "        for i in a:\n",
    "            if i%2==0:\n",
    "                l1.append(i)\n",
    "    return l1"
   ]
  },
  {
   "cell_type": "code",
   "execution_count": 102,
   "id": "dd8b15ca-f984-4a88-b5c5-898afc6d3f8c",
   "metadata": {},
   "outputs": [
    {
     "data": {
      "text/plain": [
       "[2, 4, 6, 8]"
      ]
     },
     "execution_count": 102,
     "metadata": {},
     "output_type": "execute_result"
    }
   ],
   "source": [
    "test24(l)"
   ]
  },
  {
   "cell_type": "code",
   "execution_count": 110,
   "id": "3d5ffd02-31e8-477f-9525-8b7fe2b38926",
   "metadata": {},
   "outputs": [],
   "source": [
    "a = lambda a:a if a%2 == 0 else None"
   ]
  },
  {
   "cell_type": "code",
   "execution_count": 111,
   "id": "bf5d0d5c-9faa-45c5-978f-cdc730c57245",
   "metadata": {},
   "outputs": [
    {
     "data": {
      "text/plain": [
       "[None, 2, None, 4, None, 6, None, 8]"
      ]
     },
     "execution_count": 111,
     "metadata": {},
     "output_type": "execute_result"
    }
   ],
   "source": [
    "list(map(a, l))"
   ]
  },
  {
   "cell_type": "code",
   "execution_count": 112,
   "id": "ff52f342-1ffe-426d-ae0c-5406267ea8c1",
   "metadata": {},
   "outputs": [
    {
     "data": {
      "text/plain": [
       "[2, 4, 6, 8]"
      ]
     },
     "execution_count": 112,
     "metadata": {},
     "output_type": "execute_result"
    }
   ],
   "source": [
    "list(filter(a,l))"
   ]
  },
  {
   "cell_type": "code",
   "execution_count": 113,
   "id": "d0dfa152-6214-4ffa-8800-0abcda22f4f6",
   "metadata": {},
   "outputs": [],
   "source": [
    "def test25(a):\n",
    "    if a%2 == 0:\n",
    "        return True\n",
    "    else:\n",
    "        return False"
   ]
  },
  {
   "cell_type": "code",
   "execution_count": 114,
   "id": "ada6fcce-25f0-43b8-a8cd-5ee9d3aba271",
   "metadata": {},
   "outputs": [
    {
     "data": {
      "text/plain": [
       "True"
      ]
     },
     "execution_count": 114,
     "metadata": {},
     "output_type": "execute_result"
    }
   ],
   "source": [
    "test25(32)"
   ]
  },
  {
   "cell_type": "code",
   "execution_count": 115,
   "id": "03fd653c-f138-4ecd-b967-558e1c9cf288",
   "metadata": {},
   "outputs": [
    {
     "data": {
      "text/plain": [
       "[2, 4, 6, 8]"
      ]
     },
     "execution_count": 115,
     "metadata": {},
     "output_type": "execute_result"
    }
   ],
   "source": [
    "list(filter(test25,l))"
   ]
  },
  {
   "cell_type": "code",
   "execution_count": 116,
   "id": "d20da167-6651-4989-bdd9-56c9097648aa",
   "metadata": {},
   "outputs": [
    {
     "data": {
      "text/plain": [
       "[1, 2, 3, 4, 5, 6, 7, 8]"
      ]
     },
     "execution_count": 116,
     "metadata": {},
     "output_type": "execute_result"
    }
   ],
   "source": [
    "l"
   ]
  },
  {
   "cell_type": "code",
   "execution_count": 117,
   "id": "e2429e43-84b1-40f5-94de-7f4af38aa098",
   "metadata": {},
   "outputs": [
    {
     "data": {
      "text/plain": [
       "36"
      ]
     },
     "execution_count": 117,
     "metadata": {},
     "output_type": "execute_result"
    }
   ],
   "source": [
    "sum(l)"
   ]
  },
  {
   "cell_type": "code",
   "execution_count": 118,
   "id": "1b8422f7-6d6a-4c3a-96d6-36de0e234a89",
   "metadata": {},
   "outputs": [
    {
     "data": {
      "text/plain": [
       "[1, 2, 3, 4, 5, 6, 7, 8]"
      ]
     },
     "execution_count": 118,
     "metadata": {},
     "output_type": "execute_result"
    }
   ],
   "source": [
    "l"
   ]
  },
  {
   "cell_type": "code",
   "execution_count": 119,
   "id": "924a3e69-29a9-4569-8425-21252e1a9c05",
   "metadata": {},
   "outputs": [],
   "source": [
    "from functools import reduce"
   ]
  },
  {
   "cell_type": "code",
   "execution_count": 120,
   "id": "0ea298d8-1667-4033-a48a-de96403c8a61",
   "metadata": {},
   "outputs": [
    {
     "data": {
      "text/plain": [
       "40320"
      ]
     },
     "execution_count": 120,
     "metadata": {},
     "output_type": "execute_result"
    }
   ],
   "source": [
    "reduce(lambda a,b : a*b, l)"
   ]
  },
  {
   "cell_type": "code",
   "execution_count": 121,
   "id": "e3e04149-791a-4235-a387-b75300aee596",
   "metadata": {},
   "outputs": [
    {
     "ename": "TypeError",
     "evalue": "<lambda>() missing 1 required positional argument: 'c'",
     "output_type": "error",
     "traceback": [
      "\u001b[0;31m---------------------------------------------------------------------------\u001b[0m",
      "\u001b[0;31mTypeError\u001b[0m                                 Traceback (most recent call last)",
      "Cell \u001b[0;32mIn [121], line 1\u001b[0m\n\u001b[0;32m----> 1\u001b[0m \u001b[43mreduce\u001b[49m\u001b[43m(\u001b[49m\u001b[38;5;28;43;01mlambda\u001b[39;49;00m\u001b[43m \u001b[49m\u001b[43ma\u001b[49m\u001b[43m,\u001b[49m\u001b[43mb\u001b[49m\u001b[43m,\u001b[49m\u001b[43mc\u001b[49m\u001b[43m \u001b[49m\u001b[43m:\u001b[49m\u001b[43m \u001b[49m\u001b[43ma\u001b[49m\u001b[38;5;241;43m*\u001b[39;49m\u001b[43mb\u001b[49m\u001b[38;5;241;43m*\u001b[39;49m\u001b[43mc\u001b[49m\u001b[43m,\u001b[49m\u001b[43m \u001b[49m\u001b[43ml\u001b[49m\u001b[43m)\u001b[49m\n",
      "\u001b[0;31mTypeError\u001b[0m: <lambda>() missing 1 required positional argument: 'c'"
     ]
    }
   ],
   "source": [
    "reduce(lambda a,b,c : a*b*c, l)  ##for reduce we need to give only two elements"
   ]
  },
  {
   "cell_type": "code",
   "execution_count": 123,
   "id": "c533e254-4543-48af-b05f-292e0ae758fe",
   "metadata": {},
   "outputs": [
    {
     "data": {
      "text/plain": [
       "3"
      ]
     },
     "execution_count": 123,
     "metadata": {},
     "output_type": "execute_result"
    }
   ],
   "source": [
    "l1=[3]\n",
    "reduce(lambda a,b : a*b, l1)"
   ]
  },
  {
   "cell_type": "code",
   "execution_count": 128,
   "id": "7fe2022d-c1fd-4006-add1-e55c89916fc1",
   "metadata": {},
   "outputs": [],
   "source": [
    "def test26(a,b) -> int:\n",
    "    '''this is my doc string to give a hint to next proframmer'''\n",
    "    return a+b"
   ]
  },
  {
   "cell_type": "code",
   "execution_count": 129,
   "id": "553b94fd-d131-4104-80ab-24915199a40d",
   "metadata": {},
   "outputs": [
    {
     "data": {
      "text/plain": [
       "51"
      ]
     },
     "execution_count": 129,
     "metadata": {},
     "output_type": "execute_result"
    }
   ],
   "source": [
    "test26(4,47)"
   ]
  },
  {
   "cell_type": "code",
   "execution_count": null,
   "id": "fa181b9a-6113-4734-8931-09d31cf97b7f",
   "metadata": {},
   "outputs": [],
   "source": []
  }
 ],
 "metadata": {
  "kernelspec": {
   "display_name": "Python 3 (ipykernel)",
   "language": "python",
   "name": "python3"
  },
  "language_info": {
   "codemirror_mode": {
    "name": "ipython",
    "version": 3
   },
   "file_extension": ".py",
   "mimetype": "text/x-python",
   "name": "python",
   "nbconvert_exporter": "python",
   "pygments_lexer": "ipython3",
   "version": "3.10.6"
  }
 },
 "nbformat": 4,
 "nbformat_minor": 5
}
